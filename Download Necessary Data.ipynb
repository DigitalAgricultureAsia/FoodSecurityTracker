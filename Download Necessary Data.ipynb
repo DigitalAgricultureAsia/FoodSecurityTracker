{
 "cells": [
  {
   "cell_type": "markdown",
   "id": "ba2dda3f",
   "metadata": {},
   "source": [
    "#### Import Necessary Libraries"
   ]
  },
  {
   "cell_type": "code",
   "execution_count": 60,
   "id": "3c58ea0b",
   "metadata": {},
   "outputs": [],
   "source": [
    "from bs4 import BeautifulSoup\n",
    "import requests\n",
    "import pandas as pd\n",
    "import os\n",
    "import seaborn as sns\n",
    "\n",
    "adbCodes=pd.read_csv(os.path.join(os.getcwd(),\"data\",\"ADB_CountryCodes.csv\"))\n",
    "NewData=adbCodes[['name','ISO','ADB_DEP','TE_Name','CurrencyCode']].copy()"
   ]
  },
  {
   "cell_type": "markdown",
   "id": "2de42f7c",
   "metadata": {},
   "source": [
    "#### Download Currency data from Trading Economics"
   ]
  },
  {
   "cell_type": "code",
   "execution_count": 61,
   "id": "90179a5f",
   "metadata": {},
   "outputs": [],
   "source": [
    "#Set Necessary headers to read data\n",
    "headers = {\"user-agent\": \"Mozilla/5.0 (Windows NT 10.0; Win64; x64) AppleWebKit/537.36 (KHTML, like Gecko) Chrome/88.0.4324.182 Safari/537.36\"}\n",
    "NewData[['currency_Price','currency_YOYChange','currency_Date']]=\"\"\n",
    "for i in range(0,NewData.shape[0]):\n",
    "    URL=\"https://tradingeconomics.com/\"+NewData['TE_Name'].iloc[i]+\"/currency\"\n",
    "    response=requests.get(URL,headers=headers)\n",
    "    soup=BeautifulSoup(response.content,'html.parser')\n",
    "    tables=soup.find_all('table','table')\n",
    "    if len(tables)>2:\n",
    "        df1=pd.read_html(str(tables[1]))[0]\n",
    "        if 'Crosses' in list(df1.columns):\n",
    "            NewData['currency_Price'].iloc[i]=float(df1[df1['Crosses']==\"USD\"+NewData['CurrencyCode'].iloc[i]]['Price'])\n",
    "            NewData['currency_YOYChange'].iloc[i]=df1[df1['Crosses']==\"USD\"+NewData['CurrencyCode'].iloc[i]]['Year'][0]\n",
    "            NewData['currency_Date'].iloc[i]=df1[df1['Crosses']==\"USD\"+NewData['CurrencyCode'].iloc[i]]['Date'][0]\n",
    "            \n",
    "            \n",
    "            "
   ]
  },
  {
   "cell_type": "markdown",
   "id": "66782ddb",
   "metadata": {},
   "source": [
    "#### Download Inflation, Change in Interest Rate and CPI Change Data from Trading Economics"
   ]
  },
  {
   "cell_type": "code",
   "execution_count": 63,
   "id": "c25eb31d",
   "metadata": {},
   "outputs": [
    {
     "data": {
      "text/html": [
       "<div>\n",
       "<style scoped>\n",
       "    .dataframe tbody tr th:only-of-type {\n",
       "        vertical-align: middle;\n",
       "    }\n",
       "\n",
       "    .dataframe tbody tr th {\n",
       "        vertical-align: top;\n",
       "    }\n",
       "\n",
       "    .dataframe thead th {\n",
       "        text-align: right;\n",
       "    }\n",
       "</style>\n",
       "<table border=\"1\" class=\"dataframe\">\n",
       "  <thead>\n",
       "    <tr style=\"text-align: right;\">\n",
       "      <th></th>\n",
       "      <th>name</th>\n",
       "      <th>ISO</th>\n",
       "      <th>ADB_DEP</th>\n",
       "      <th>TE_Name</th>\n",
       "      <th>CurrencyCode</th>\n",
       "      <th>currency_Price</th>\n",
       "      <th>currency_YOYChange</th>\n",
       "      <th>currency_Date</th>\n",
       "    </tr>\n",
       "  </thead>\n",
       "  <tbody>\n",
       "    <tr>\n",
       "      <th>41</th>\n",
       "      <td>Philippines</td>\n",
       "      <td>PHL</td>\n",
       "      <td>SERD</td>\n",
       "      <td>Philippines</td>\n",
       "      <td>PHP</td>\n",
       "      <td>52.93</td>\n",
       "      <td>10.73%</td>\n",
       "      <td>Jun/07</td>\n",
       "    </tr>\n",
       "    <tr>\n",
       "      <th>42</th>\n",
       "      <td>Singapore</td>\n",
       "      <td>SGP</td>\n",
       "      <td>SERD</td>\n",
       "      <td>Singapore</td>\n",
       "      <td>SGD</td>\n",
       "      <td>1.3778</td>\n",
       "      <td>4.06%</td>\n",
       "      <td>Jun/07</td>\n",
       "    </tr>\n",
       "    <tr>\n",
       "      <th>43</th>\n",
       "      <td>Thailand</td>\n",
       "      <td>THA</td>\n",
       "      <td>SERD</td>\n",
       "      <td>Thailand</td>\n",
       "      <td>THB</td>\n",
       "      <td>34.42</td>\n",
       "      <td>10.32%</td>\n",
       "      <td>Jun/07</td>\n",
       "    </tr>\n",
       "    <tr>\n",
       "      <th>44</th>\n",
       "      <td>Timor-Leste</td>\n",
       "      <td>TLS</td>\n",
       "      <td>SERD</td>\n",
       "      <td>Timor-Leste</td>\n",
       "      <td>USD</td>\n",
       "      <td></td>\n",
       "      <td></td>\n",
       "      <td></td>\n",
       "    </tr>\n",
       "    <tr>\n",
       "      <th>45</th>\n",
       "      <td>Viet Nam</td>\n",
       "      <td>VNM</td>\n",
       "      <td>SERD</td>\n",
       "      <td>Vietnam</td>\n",
       "      <td>VND</td>\n",
       "      <td>23185.0</td>\n",
       "      <td>1.02%</td>\n",
       "      <td>Jun/07</td>\n",
       "    </tr>\n",
       "  </tbody>\n",
       "</table>\n",
       "</div>"
      ],
      "text/plain": [
       "           name  ISO ADB_DEP      TE_Name CurrencyCode currency_Price  \\\n",
       "41  Philippines  PHL    SERD  Philippines          PHP          52.93   \n",
       "42    Singapore  SGP    SERD    Singapore          SGD         1.3778   \n",
       "43     Thailand  THA    SERD     Thailand          THB          34.42   \n",
       "44  Timor-Leste  TLS    SERD  Timor-Leste          USD                  \n",
       "45     Viet Nam  VNM    SERD      Vietnam          VND        23185.0   \n",
       "\n",
       "   currency_YOYChange currency_Date  \n",
       "41             10.73%        Jun/07  \n",
       "42              4.06%        Jun/07  \n",
       "43             10.32%        Jun/07  \n",
       "44                                   \n",
       "45              1.02%        Jun/07  "
      ]
     },
     "execution_count": 63,
     "metadata": {},
     "output_type": "execute_result"
    }
   ],
   "source": [
    "NewData.tail()"
   ]
  },
  {
   "cell_type": "code",
   "execution_count": null,
   "id": "d940fc30",
   "metadata": {},
   "outputs": [],
   "source": []
  }
 ],
 "metadata": {
  "kernelspec": {
   "display_name": "Python 3",
   "language": "python",
   "name": "python3"
  },
  "language_info": {
   "codemirror_mode": {
    "name": "ipython",
    "version": 3
   },
   "file_extension": ".py",
   "mimetype": "text/x-python",
   "name": "python",
   "nbconvert_exporter": "python",
   "pygments_lexer": "ipython3",
   "version": "3.8.8"
  }
 },
 "nbformat": 4,
 "nbformat_minor": 5
}
