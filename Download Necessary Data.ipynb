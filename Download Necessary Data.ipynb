{
 "cells": [
  {
   "cell_type": "markdown",
   "id": "ba2dda3f",
   "metadata": {},
   "source": [
    "#### Import Necessary Libraries"
   ]
  },
  {
   "cell_type": "code",
   "execution_count": 2,
   "id": "3c58ea0b",
   "metadata": {},
   "outputs": [],
   "source": [
    "from bs4 import BeautifulSoup\n",
    "import requests\n",
    "import pandas as pd\n",
    "import os\n",
    "import seaborn as sns\n",
    "\n",
    "adbCodes=pd.read_csv(os.path.join(os.getcwd(),\"data\",\"ADB_CountryCodes.csv\"))\n",
    "NewData=adbCodes[['name','ISO','ADB_DEP','TE_Name','CurrencyCode']].copy()\n",
    "NewData[['currency_Price','currency_YOYChange','currency_Date']]=\"\"\n",
    "NewData[['CPI_Inflation_YoY','Inflation_Change','CPI_Inflation_Date']]=\"\"\n",
    "NewData[['Food_Inflation_YoY','Food_Inflation_Change','Food_Inflation_Date']]=\"\"\n",
    "\n"
   ]
  },
  {
   "cell_type": "markdown",
   "id": "2de42f7c",
   "metadata": {},
   "source": [
    "#### Download Currency data from Trading Economics"
   ]
  },
  {
   "cell_type": "code",
   "execution_count": 71,
   "id": "90179a5f",
   "metadata": {},
   "outputs": [
    {
     "name": "stdout",
     "output_type": "stream",
     "text": [
      "0 1 2 3 4 5 6 7 8 9 10 11 12 13 14 15 16 17 18 19 20 21 22 23 24 25 26 27 28 29 30 31 32 33 34 35 36 37 38 39 40 41 42 43 44 45 "
     ]
    }
   ],
   "source": [
    "#Set Necessary headers to read data\n",
    "headers = {\"user-agent\": \"Mozilla/5.0 (Windows NT 10.0; Win64; x64) AppleWebKit/537.36 (KHTML, like Gecko) Chrome/88.0.4324.182 Safari/537.36\"}\n",
    "\n",
    "for i in range(0,NewData.shape[0]):\n",
    "    URL=\"https://tradingeconomics.com/\"+NewData['TE_Name'].iloc[i]+\"/currency\"\n",
    "    response=requests.get(URL,headers=headers)\n",
    "    soup=BeautifulSoup(response.content,'html.parser')\n",
    "    tables=soup.find_all('table','table')\n",
    "    if len(tables)>2:\n",
    "        df1=pd.read_html(str(tables[1]))[0]\n",
    "        if 'Crosses' in list(df1.columns):\n",
    "            NewData['currency_Price'].iloc[i]=float(df1[df1['Crosses']==\"USD\"+NewData['CurrencyCode'].iloc[i]]['Price'])\n",
    "            NewData['currency_YOYChange'].iloc[i]=df1[df1['Crosses']==\"USD\"+NewData['CurrencyCode'].iloc[i]]['Year'].iloc[0]\n",
    "            NewData['currency_Date'].iloc[i]=df1[df1['Crosses']==\"USD\"+NewData['CurrencyCode'].iloc[i]]['Date'].iloc[0]\n",
    "    print(i,end=\" \")\n",
    "            \n",
    "            \n",
    "            "
   ]
  },
  {
   "cell_type": "markdown",
   "id": "66782ddb",
   "metadata": {},
   "source": [
    "#### Download Inflation, CPI Change Data from Trading Economics"
   ]
  },
  {
   "cell_type": "code",
   "execution_count": 72,
   "id": "c25eb31d",
   "metadata": {},
   "outputs": [
    {
     "name": "stdout",
     "output_type": "stream",
     "text": [
      "0 1 2 3 4 5 6 7 8 9 10 11 12 13 14 16 23 29 30 31 32 33 34 35 36 37 38 39 40 41 42 43 45 "
     ]
    }
   ],
   "source": [
    "#Set Necessary headers to read data\n",
    "headers = {\"user-agent\": \"Mozilla/5.0 (Windows NT 10.0; Win64; x64) AppleWebKit/537.36 (KHTML, like Gecko) Chrome/88.0.4324.182 Safari/537.36\"}\n",
    "for i in range(0,NewData.shape[0]):\n",
    "    URL=\"https://tradingeconomics.com/\"+NewData['TE_Name'].iloc[i]+\"/inflation-cpi\"\n",
    "    response=requests.get(URL,headers=headers)\n",
    "    soup=BeautifulSoup(response.content,'html.parser')\n",
    "    tables=soup.find_all('table','table')\n",
    "    tableno=\"\"\n",
    "    current=\"\"\n",
    "    prev=\"\"\n",
    "    change=\"\"\n",
    "    if len(tables)>=1:\n",
    "        for j in range(0,len(tables)):\n",
    "            df1=pd.read_html(str(tables[j]))[0]\n",
    "            if 'Related' in list(df1.columns):\n",
    "                tableno=j\n",
    "                df1=pd.read_html(str(tables[tableno]))[0]\n",
    "                current=df1[df1['Related']==\"Inflation Rate\"]['Last'].iloc[0]\n",
    "                prev=df1[df1['Related']==\"Inflation Rate\"]['Previous'].iloc[0]\n",
    "                change=current-prev \n",
    "                NewData['CPI_Inflation_YoY'].iloc[i]=current\n",
    "                NewData['Inflation_Change'].iloc[i]=change\n",
    "                NewData['CPI_Inflation_Date'].iloc[i]=df1[df1['Related']==\"Inflation Rate\"]['Reference'].iloc[0]\n",
    "                print(i, end=\" \")\n",
    "                \n",
    "            "
   ]
  },
  {
   "cell_type": "markdown",
   "id": "b0191bec",
   "metadata": {},
   "source": [
    "#### Download Food Inflation Data from Trading Economics"
   ]
  },
  {
   "cell_type": "code",
   "execution_count": 73,
   "id": "afb811b7",
   "metadata": {},
   "outputs": [
    {
     "name": "stdout",
     "output_type": "stream",
     "text": [
      "0 1 2 3 4 5 6 7 9 10 11 12 13 14 16 23 29 30 31 32 33 34 35 36 37 38 39 40 41 42 43 45 "
     ]
    }
   ],
   "source": [
    "#Set Necessary headers to read data\n",
    "headers = {\"user-agent\": \"Mozilla/5.0 (Windows NT 10.0; Win64; x64) AppleWebKit/537.36 (KHTML, like Gecko) Chrome/88.0.4324.182 Safari/537.36\"}\n",
    "for i in range(0,NewData.shape[0]):\n",
    "    URL=\"https://tradingeconomics.com/\"+NewData['TE_Name'].iloc[i]+\"/food-inflation\"\n",
    "    response=requests.get(URL,headers=headers)\n",
    "    soup=BeautifulSoup(response.content,'html.parser')\n",
    "    tables=soup.find_all('table','table')\n",
    "    tableno=\"\"\n",
    "    current=\"\"\n",
    "    prev=\"\"\n",
    "    change=\"\"\n",
    "    if len(tables)>=1:\n",
    "        for j in range(0,len(tables)):\n",
    "            df1=pd.read_html(str(tables[j]))[0]\n",
    "            if 'Related' in list(df1.columns):\n",
    "                tableno=j\n",
    "                df1=pd.read_html(str(tables[tableno]))[0]\n",
    "                current=df1[df1['Related']==\"Food Inflation\"]['Last'].iloc[0]\n",
    "                prev=df1[df1['Related']==\"Food Inflation\"]['Previous'].iloc[0]\n",
    "                change=current-prev \n",
    "                NewData['Food_Inflation_YoY'].iloc[i]=current\n",
    "                NewData['Food_Inflation_Change'].iloc[i]=change\n",
    "                NewData['Food_Inflation_Date'].iloc[i]=df1[df1['Related']==\"Food Inflation\"]['Reference'].iloc[0]\n",
    "                print(i, end=\" \")\n",
    "                "
   ]
  },
  {
   "cell_type": "markdown",
   "id": "7d8f8710",
   "metadata": {},
   "source": [
    "#### Download Commodity Prices"
   ]
  },
  {
   "cell_type": "code",
   "execution_count": 15,
   "id": "80c19bd4",
   "metadata": {},
   "outputs": [],
   "source": [
    "url=\"https://thedocs.worldbank.org/en/doc/5d903e848db1d1b83e0ec8f744e55570-0350012021/related/CMO-Historical-Data-Monthly.xlsx\"\n",
    "r = requests.get(url)\n",
    "open('temp.xls', 'wb').write(r.content)\n",
    "df = pd.read_excel('temp.xls',sheet_name=\"Monthly Prices\",skiprows=4, usecols=\"A:BT\")"
   ]
  },
  {
   "cell_type": "code",
   "execution_count": 18,
   "id": "4a97d8ff",
   "metadata": {},
   "outputs": [
    {
     "data": {
      "text/html": [
       "<div>\n",
       "<style scoped>\n",
       "    .dataframe tbody tr th:only-of-type {\n",
       "        vertical-align: middle;\n",
       "    }\n",
       "\n",
       "    .dataframe tbody tr th {\n",
       "        vertical-align: top;\n",
       "    }\n",
       "\n",
       "    .dataframe thead th {\n",
       "        text-align: right;\n",
       "    }\n",
       "</style>\n",
       "<table border=\"1\" class=\"dataframe\">\n",
       "  <thead>\n",
       "    <tr style=\"text-align: right;\">\n",
       "      <th></th>\n",
       "      <th>Unnamed: 0</th>\n",
       "      <th>Crude oil, average</th>\n",
       "      <th>Crude oil, Brent</th>\n",
       "      <th>Crude oil, Dubai</th>\n",
       "      <th>Crude oil, WTI</th>\n",
       "      <th>Coal, Australian</th>\n",
       "      <th>Coal, South African</th>\n",
       "      <th>Natural gas, US</th>\n",
       "      <th>Natural gas, Europe</th>\n",
       "      <th>Liquefied natural gas, Japan</th>\n",
       "      <th>...</th>\n",
       "      <th>Aluminum</th>\n",
       "      <th>Iron ore, cfr spot</th>\n",
       "      <th>Copper</th>\n",
       "      <th>Lead</th>\n",
       "      <th>Tin</th>\n",
       "      <th>Nickel</th>\n",
       "      <th>Zinc</th>\n",
       "      <th>Gold</th>\n",
       "      <th>Platinum</th>\n",
       "      <th>Silver</th>\n",
       "    </tr>\n",
       "  </thead>\n",
       "  <tbody>\n",
       "    <tr>\n",
       "      <th>750</th>\n",
       "      <td>2022M05</td>\n",
       "      <td>110.096667</td>\n",
       "      <td>112.37</td>\n",
       "      <td>108.32</td>\n",
       "      <td>109.6</td>\n",
       "      <td>..</td>\n",
       "      <td>280</td>\n",
       "      <td>8.1373</td>\n",
       "      <td>29.84629</td>\n",
       "      <td>16.5267</td>\n",
       "      <td>...</td>\n",
       "      <td>2830.32</td>\n",
       "      <td>131.21</td>\n",
       "      <td>9377.15</td>\n",
       "      <td>2142.48</td>\n",
       "      <td>35769.39</td>\n",
       "      <td>28062.55</td>\n",
       "      <td>3751.48</td>\n",
       "      <td>1848.5</td>\n",
       "      <td>958.38</td>\n",
       "      <td>21.905</td>\n",
       "    </tr>\n",
       "  </tbody>\n",
       "</table>\n",
       "<p>1 rows × 72 columns</p>\n",
       "</div>"
      ],
      "text/plain": [
       "    Unnamed: 0 Crude oil, average Crude oil, Brent Crude oil, Dubai  \\\n",
       "750    2022M05         110.096667           112.37           108.32   \n",
       "\n",
       "    Crude oil, WTI Coal, Australian Coal, South African Natural gas, US  \\\n",
       "750          109.6               ..                 280          8.1373   \n",
       "\n",
       "    Natural gas, Europe Liquefied natural gas, Japan  ... Aluminum  \\\n",
       "750            29.84629                      16.5267  ...  2830.32   \n",
       "\n",
       "    Iron ore, cfr spot   Copper     Lead       Tin    Nickel     Zinc    Gold  \\\n",
       "750             131.21  9377.15  2142.48  35769.39  28062.55  3751.48  1848.5   \n",
       "\n",
       "    Platinum  Silver  \n",
       "750   958.38  21.905  \n",
       "\n",
       "[1 rows x 72 columns]"
      ]
     },
     "execution_count": 18,
     "metadata": {},
     "output_type": "execute_result"
    }
   ],
   "source": [
    "df.tail(1)"
   ]
  },
  {
   "cell_type": "code",
   "execution_count": 23,
   "id": "0ad1c51f",
   "metadata": {},
   "outputs": [
    {
     "data": {
      "text/plain": [
       "Index(['Unnamed: 0', 'Crude oil, average', 'Crude oil, Brent',\n",
       "       'Crude oil, Dubai', 'Crude oil, WTI', 'Coal, Australian',\n",
       "       'Coal, South African', 'Natural gas, US', 'Natural gas, Europe',\n",
       "       'Liquefied natural gas, Japan', 'Natural gas index', 'Cocoa',\n",
       "       'Coffee, Arabica', 'Coffee, Robusta', 'Tea, avg 3 auctions',\n",
       "       'Tea, Colombo', 'Tea, Kolkata', 'Tea, Mombasa', 'Coconut oil',\n",
       "       'Groundnuts', 'Fish meal', 'Groundnut oil', 'Palm oil',\n",
       "       'Palm kernel oil', 'Soybeans', 'Soybean oil', 'Soybean meal',\n",
       "       'Rapeseed oil', 'Sunflower oil', 'Barley', 'Maize', 'Sorghum',\n",
       "       'Rice, Thai 5% ', 'Rice, Thai 25% ', 'Rice, Thai A.1',\n",
       "       'Rice, Viet Namese 5%', 'Wheat, US SRW', 'Wheat, US HRW',\n",
       "       'Banana, Europe', 'Banana, US', 'Orange', 'Beef', 'Meat, chicken',\n",
       "       'Meat, sheep', 'Shrimps, Mexican', 'Sugar, EU', 'Sugar, US',\n",
       "       'Sugar, world', 'Tobacco, US import u.v.', 'Logs, Cameroon',\n",
       "       'Logs, Malaysian', 'Sawnwood, Cameroon', 'Sawnwood, Malaysian',\n",
       "       'Plywood', 'Cotton, A Index', 'Rubber, TSR20', 'Rubber, SGP/MYS',\n",
       "       'Phosphate rock', 'DAP', 'TSP', 'Urea ', 'Potassium chloride',\n",
       "       'Aluminum', 'Iron ore, cfr spot', 'Copper', 'Lead', 'Tin', 'Nickel',\n",
       "       'Zinc', 'Gold', 'Platinum', 'Silver'],\n",
       "      dtype='object')"
      ]
     },
     "execution_count": 23,
     "metadata": {},
     "output_type": "execute_result"
    }
   ],
   "source": [
    "df.columns"
   ]
  },
  {
   "cell_type": "code",
   "execution_count": 25,
   "id": "3a3fac28",
   "metadata": {},
   "outputs": [],
   "source": [
    "ColsEnergy=['Crude oil, average','Natural gas, US']\n",
    "ColsOils=['Palm oil','Soybeans', 'Soybean oil','Sunflower oil']\n",
    "ColsCereals=['Soybeans','Maize','Rice, Thai 5% ', 'Rice, Thai 25% ', 'Rice, Thai A.1',\n",
    "       'Rice, Viet Namese 5%', 'Wheat, US SRW', 'Wheat, US HRW']\n",
    "ColsOthers=['Sugar, world','Cotton, A Index']\n",
    "ColsFert=['Phosphate rock', 'DAP', 'TSP', 'Urea ', 'Potassium chloride']\n"
   ]
  },
  {
   "cell_type": "code",
   "execution_count": null,
   "id": "161a25b3",
   "metadata": {},
   "outputs": [],
   "source": []
  }
 ],
 "metadata": {
  "kernelspec": {
   "display_name": "Python 3",
   "language": "python",
   "name": "python3"
  },
  "language_info": {
   "codemirror_mode": {
    "name": "ipython",
    "version": 3
   },
   "file_extension": ".py",
   "mimetype": "text/x-python",
   "name": "python",
   "nbconvert_exporter": "python",
   "pygments_lexer": "ipython3",
   "version": "3.8.8"
  }
 },
 "nbformat": 4,
 "nbformat_minor": 5
}
